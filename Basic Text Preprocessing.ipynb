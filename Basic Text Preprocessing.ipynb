{
 "cells": [
  {
   "cell_type": "markdown",
   "id": "b36b5578-c6cb-4fd5-8b7e-056ed6c27aeb",
   "metadata": {},
   "source": [
    "Sentence Tokenization"
   ]
  },
  {
   "cell_type": "code",
   "execution_count": null,
   "id": "83a8dd8c-08ea-48b1-89a9-a58b311a35c5",
   "metadata": {},
   "outputs": [],
   "source": [
    "# Define a sample text\n",
    "dummy = \"Lorem Ipsum is simply dummy text of the printing and typesetting industry. Lorem Ipsum has been the industry standard dummy text ever since the 1500s, when an unknown printer took a galley of type and scrambled it to make a type specimen book. It has survived not only five centuries, but also the leap into electronic typesetting, remaining essentially unchanged. It was popularised in the 1960s with the release of Letraset sheets containing Lorem Ipsum passages, and more recently with desktop publishing software like Aldus PageMaker including versions of Lorem Ipsum.\""
   ]
  },
  {
   "cell_type": "code",
   "execution_count": null,
   "id": "44dd49a3-b4c5-4d96-9aa5-9b2d1fd4daa2",
   "metadata": {},
   "outputs": [],
   "source": [
    "# Print the text\n",
    "dummy"
   ]
  },
  {
   "cell_type": "code",
   "execution_count": null,
   "id": "b3588623-de28-45fa-a022-fc21e73de5c5",
   "metadata": {},
   "outputs": [],
   "source": [
    "# Import tokenization functions from NLTK\n",
    "from nltk.tokenize import sent_tokenize"
   ]
  },
  {
   "cell_type": "code",
   "execution_count": null,
   "id": "801fe9e7-1957-49e8-9d6b-2740393f1876",
   "metadata": {
    "scrolled": true
   },
   "outputs": [],
   "source": [
    "import nltk\n",
    "nltk.download('punkt')\n"
   ]
  },
  {
   "cell_type": "code",
   "execution_count": null,
   "id": "9b3a8834-5f86-4b29-90c1-f47d7e9f49d3",
   "metadata": {},
   "outputs": [],
   "source": [
    "pip uninstall nltk"
   ]
  },
  {
   "cell_type": "code",
   "execution_count": null,
   "id": "01f06da9-c125-450f-b13d-8b90bb62ed95",
   "metadata": {},
   "outputs": [],
   "source": [
    "pip install nltk"
   ]
  },
  {
   "cell_type": "code",
   "execution_count": null,
   "id": "1ddfe367-170f-4807-9591-29480024edd3",
   "metadata": {},
   "outputs": [],
   "source": [
    "pip install --upgrade nltk"
   ]
  },
  {
   "cell_type": "code",
   "execution_count": null,
   "id": "a7868095-3a7f-4c58-8700-110d196210b7",
   "metadata": {},
   "outputs": [],
   "source": [
    "# Sentence tokenization\n",
    "sents = sent_tokenize(dummy,language=\"english\")\n",
    "sents\n"
   ]
  },
  {
   "cell_type": "code",
   "execution_count": null,
   "id": "c14357b5-a283-454a-90b1-6bf156ab3d4a",
   "metadata": {},
   "outputs": [],
   "source": [
    "from nltk.tokenize import word_tokenize"
   ]
  },
  {
   "cell_type": "code",
   "execution_count": null,
   "id": "93ab2979-3ba1-4924-930d-37c1f088713a",
   "metadata": {},
   "outputs": [],
   "source": [
    "# Word tokenization for each sentence\n",
    "for sent in sents:\n",
    "    print(word_tokenize(sent))"
   ]
  },
  {
   "cell_type": "code",
   "execution_count": null,
   "id": "9ae9a217-d101-4155-82f3-e50f5dd72fd2",
   "metadata": {},
   "outputs": [],
   "source": []
  }
 ],
 "metadata": {
  "kernelspec": {
   "display_name": "Python 3 (ipykernel)",
   "language": "python",
   "name": "python3"
  },
  "language_info": {
   "codemirror_mode": {
    "name": "ipython",
    "version": 3
   },
   "file_extension": ".py",
   "mimetype": "text/x-python",
   "name": "python",
   "nbconvert_exporter": "python",
   "pygments_lexer": "ipython3",
   "version": "3.11.7"
  }
 },
 "nbformat": 4,
 "nbformat_minor": 5
}
