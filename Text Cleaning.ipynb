{
 "cells": [
  {
   "cell_type": "markdown",
   "id": "1e35fb29-3ddc-42c7-942b-21eceb4ed494",
   "metadata": {},
   "source": [
    "HTML Tags Removal"
   ]
  },
  {
   "cell_type": "code",
   "execution_count": 6,
   "id": "63205448-36d3-440f-917d-e31a8cf1f600",
   "metadata": {},
   "outputs": [],
   "source": [
    "sample_text = '<h2>HTML Element</h2><p>The HTML <code class=\"w3-codespan\">&lt;sup&gt;</code> element defines superscript text. Superscript text appears half a character above the normal line, and is sometimes rendered in a smaller font. Superscript text can be used for footnotes, like WWW<sup>[1]</sup>.</p>'"
   ]
  },
  {
   "cell_type": "code",
   "execution_count": 7,
   "id": "86c71ac9-29fc-46fc-ab22-eee4ae01fbab",
   "metadata": {},
   "outputs": [
    {
     "data": {
      "text/plain": [
       "'<h2>HTML Element</h2><p>The HTML <code class=\"w3-codespan\">&lt;sup&gt;</code> element defines superscript text. Superscript text appears half a character above the normal line, and is sometimes rendered in a smaller font. Superscript text can be used for footnotes, like WWW<sup>[1]</sup>.</p>'"
      ]
     },
     "execution_count": 7,
     "metadata": {},
     "output_type": "execute_result"
    }
   ],
   "source": [
    "sample_text"
   ]
  },
  {
   "cell_type": "code",
   "execution_count": 8,
   "id": "1d50b352-27ef-44ea-898b-5f90e5dbc75c",
   "metadata": {},
   "outputs": [],
   "source": [
    "import re  # regular expression module"
   ]
  },
  {
   "cell_type": "code",
   "execution_count": 9,
   "id": "ac21906c-20ae-449a-96cb-7d0a021f9204",
   "metadata": {},
   "outputs": [],
   "source": [
    "def striphtml(data):\n",
    "    p = re.compile(r'<.*?>')  # Regular expression to match HTML tags with <> \n",
    "    return p.sub('', data)  # Replace matched HTML tags with an empty string\n"
   ]
  },
  {
   "cell_type": "code",
   "execution_count": 10,
   "id": "f03dccb9-5ca4-4fb9-ada7-ec1c118c67bc",
   "metadata": {},
   "outputs": [
    {
     "data": {
      "text/plain": [
       "'HTML ElementThe HTML &lt;sup&gt; element defines superscript text. Superscript text appears half a character above the normal line, and is sometimes rendered in a smaller font. Superscript text can be used for footnotes, like WWW[1].'"
      ]
     },
     "execution_count": 10,
     "metadata": {},
     "output_type": "execute_result"
    }
   ],
   "source": [
    "striphtml(sample_text)"
   ]
  },
  {
   "cell_type": "markdown",
   "id": "b7a46e8b-599d-4e72-bdd0-3ba9cca204d0",
   "metadata": {},
   "source": [
    "Unicode Normalization"
   ]
  },
  {
   "cell_type": "code",
   "execution_count": 11,
   "id": "749cb318-532b-4cd1-9515-47ca18be7cd7",
   "metadata": {},
   "outputs": [],
   "source": [
    "emoji_text = 'First, we established subjects. I was 🧑‍🎓, and I could use it to represent “me” in sentences. For example, 🧑‍🎓🏢 could mean “I’m running to work.”'"
   ]
  },
  {
   "cell_type": "code",
   "execution_count": 12,
   "id": "885ae30f-9db4-4897-b2c5-7fc59a7d29bb",
   "metadata": {},
   "outputs": [
    {
     "data": {
      "text/plain": [
       "'First, we established subjects. I was 🧑\\u200d🎓, and I could use it to represent “me” in sentences. For example, 🧑\\u200d🎓🏢 could mean “I’m running to work.”'"
      ]
     },
     "execution_count": 12,
     "metadata": {},
     "output_type": "execute_result"
    }
   ],
   "source": [
    "emoji_text"
   ]
  },
  {
   "cell_type": "code",
   "execution_count": 13,
   "id": "1291890e-aafb-4359-860e-7c85e264031b",
   "metadata": {},
   "outputs": [
    {
     "data": {
      "text/plain": [
       "b'First, we established subjects. I was \\xf0\\x9f\\xa7\\x91\\xe2\\x80\\x8d\\xf0\\x9f\\x8e\\x93, and I could use it to represent \\xe2\\x80\\x9cme\\xe2\\x80\\x9d in sentences. For example, \\xf0\\x9f\\xa7\\x91\\xe2\\x80\\x8d\\xf0\\x9f\\x8e\\x93\\xf0\\x9f\\x8f\\xa2 could mean \\xe2\\x80\\x9cI\\xe2\\x80\\x99m running to work.\\xe2\\x80\\x9d'"
      ]
     },
     "execution_count": 13,
     "metadata": {},
     "output_type": "execute_result"
    }
   ],
   "source": [
    "emoji_text.encode('utf-8')"
   ]
  },
  {
   "cell_type": "markdown",
   "id": "dee53cc9-99de-4b7a-8589-0f205a5cf9d7",
   "metadata": {},
   "source": [
    "Spell Checking"
   ]
  },
  {
   "cell_type": "code",
   "execution_count": 14,
   "id": "212b55cf-f7b4-4c6a-af84-41b88bb7c690",
   "metadata": {},
   "outputs": [],
   "source": [
    "incorrect_text = 'ceertain conditioans during seveal ggenerations are moodified in the saame maner.'"
   ]
  },
  {
   "cell_type": "code",
   "execution_count": 16,
   "id": "133c1039-5aff-442f-b909-8c1e1c889a7c",
   "metadata": {},
   "outputs": [
    {
     "name": "stdout",
     "output_type": "stream",
     "text": [
      "Defaulting to user installation because normal site-packages is not writeable\n",
      "Collecting textblob\n",
      "  Downloading textblob-0.19.0-py3-none-any.whl.metadata (4.4 kB)\n",
      "Collecting nltk>=3.9 (from textblob)\n",
      "  Downloading nltk-3.9.1-py3-none-any.whl.metadata (2.9 kB)\n",
      "Requirement already satisfied: click in c:\\programdata\\anaconda3\\lib\\site-packages (from nltk>=3.9->textblob) (8.1.7)\n",
      "Requirement already satisfied: joblib in c:\\programdata\\anaconda3\\lib\\site-packages (from nltk>=3.9->textblob) (1.2.0)\n",
      "Requirement already satisfied: regex>=2021.8.3 in c:\\programdata\\anaconda3\\lib\\site-packages (from nltk>=3.9->textblob) (2023.10.3)\n",
      "Requirement already satisfied: tqdm in c:\\programdata\\anaconda3\\lib\\site-packages (from nltk>=3.9->textblob) (4.65.0)\n",
      "Requirement already satisfied: colorama in c:\\programdata\\anaconda3\\lib\\site-packages (from click->nltk>=3.9->textblob) (0.4.6)\n",
      "Downloading textblob-0.19.0-py3-none-any.whl (624 kB)\n",
      "   ---------------------------------------- 0.0/624.3 kB ? eta -:--:--\n",
      "    --------------------------------------- 10.2/624.3 kB ? eta -:--:--\n",
      "    --------------------------------------- 10.2/624.3 kB ? eta -:--:--\n",
      "   -- ------------------------------------ 41.0/624.3 kB 281.8 kB/s eta 0:00:03\n",
      "   --- ----------------------------------- 61.4/624.3 kB 328.2 kB/s eta 0:00:02\n",
      "   ------- ------------------------------ 122.9/624.3 kB 514.3 kB/s eta 0:00:01\n",
      "   ----------- -------------------------- 184.3/624.3 kB 696.3 kB/s eta 0:00:01\n",
      "   -------------- ----------------------- 235.5/624.3 kB 846.9 kB/s eta 0:00:01\n",
      "   -------------- ----------------------- 235.5/624.3 kB 846.9 kB/s eta 0:00:01\n",
      "   ---------------------------------- ----- 532.5/624.3 kB 1.3 MB/s eta 0:00:01\n",
      "   ------------------------------------- -- 583.7/624.3 kB 1.3 MB/s eta 0:00:01\n",
      "   ---------------------------------------- 624.3/624.3 kB 1.3 MB/s eta 0:00:00\n",
      "Downloading nltk-3.9.1-py3-none-any.whl (1.5 MB)\n",
      "   ---------------------------------------- 0.0/1.5 MB ? eta -:--:--\n",
      "   ---------------------------------------- 0.0/1.5 MB ? eta -:--:--\n",
      "   ----- ---------------------------------- 0.2/1.5 MB 2.5 MB/s eta 0:00:01\n",
      "   ------ --------------------------------- 0.3/1.5 MB 1.8 MB/s eta 0:00:01\n",
      "   -------- ------------------------------- 0.3/1.5 MB 1.7 MB/s eta 0:00:01\n",
      "   -------- ------------------------------- 0.3/1.5 MB 1.7 MB/s eta 0:00:01\n",
      "   -------- ------------------------------- 0.3/1.5 MB 1.2 MB/s eta 0:00:02\n",
      "   --------- ------------------------------ 0.3/1.5 MB 1.2 MB/s eta 0:00:01\n",
      "   ------------- -------------------------- 0.5/1.5 MB 1.4 MB/s eta 0:00:01\n",
      "   -------------- ------------------------- 0.6/1.5 MB 1.3 MB/s eta 0:00:01\n",
      "   --------------- ------------------------ 0.6/1.5 MB 1.2 MB/s eta 0:00:01\n",
      "   ----------------- ---------------------- 0.7/1.5 MB 1.3 MB/s eta 0:00:01\n",
      "   ------------------- -------------------- 0.7/1.5 MB 1.3 MB/s eta 0:00:01\n",
      "   ------------------- -------------------- 0.7/1.5 MB 1.3 MB/s eta 0:00:01\n",
      "   --------------------- ------------------ 0.8/1.5 MB 1.2 MB/s eta 0:00:01\n",
      "   ----------------------- ---------------- 0.9/1.5 MB 1.2 MB/s eta 0:00:01\n",
      "   ------------------------- -------------- 0.9/1.5 MB 1.2 MB/s eta 0:00:01\n",
      "   -------------------------- ------------- 1.0/1.5 MB 1.2 MB/s eta 0:00:01\n",
      "   ---------------------------- ----------- 1.1/1.5 MB 1.2 MB/s eta 0:00:01\n",
      "   ----------------------------- ---------- 1.1/1.5 MB 1.2 MB/s eta 0:00:01\n",
      "   ------------------------------- -------- 1.2/1.5 MB 1.2 MB/s eta 0:00:01\n",
      "   -------------------------------- ------- 1.2/1.5 MB 1.2 MB/s eta 0:00:01\n",
      "   ---------------------------------- ----- 1.3/1.5 MB 1.3 MB/s eta 0:00:01\n",
      "   ----------------------------------- ---- 1.3/1.5 MB 1.3 MB/s eta 0:00:01\n",
      "   ------------------------------------- -- 1.4/1.5 MB 1.2 MB/s eta 0:00:01\n",
      "   -------------------------------------- - 1.5/1.5 MB 1.2 MB/s eta 0:00:01\n",
      "   ---------------------------------------  1.5/1.5 MB 1.2 MB/s eta 0:00:01\n",
      "   ---------------------------------------- 1.5/1.5 MB 1.2 MB/s eta 0:00:00\n",
      "Installing collected packages: nltk, textblob\n",
      "Successfully installed nltk-3.9.1 textblob-0.19.0\n"
     ]
    },
    {
     "name": "stderr",
     "output_type": "stream",
     "text": [
      "DEPRECATION: Loading egg at c:\\programdata\\anaconda3\\lib\\site-packages\\vboxapi-1.0-py3.11.egg is deprecated. pip 24.3 will enforce this behaviour change. A possible replacement is to use pip for package installation.. Discussion can be found at https://github.com/pypa/pip/issues/12330\n",
      "  WARNING: The script nltk.exe is installed in 'C:\\Users\\ADMIN\\AppData\\Roaming\\Python\\Python311\\Scripts' which is not on PATH.\n",
      "  Consider adding this directory to PATH or, if you prefer to suppress this warning, use --no-warn-script-location.\n"
     ]
    }
   ],
   "source": [
    "!pip install textblob"
   ]
  },
  {
   "cell_type": "code",
   "execution_count": 17,
   "id": "f09d4d4c-0cff-4d93-924e-8116c0e1da55",
   "metadata": {},
   "outputs": [],
   "source": [
    "from textblob import TextBlob"
   ]
  },
  {
   "cell_type": "code",
   "execution_count": 18,
   "id": "3a7ea6c0-c654-4daf-b854-0cb517792f6c",
   "metadata": {},
   "outputs": [],
   "source": [
    "textBlb = TextBlob(incorrect_text)"
   ]
  },
  {
   "cell_type": "code",
   "execution_count": 19,
   "id": "a09d07a1-0391-496a-8830-110c9cb025c2",
   "metadata": {},
   "outputs": [
    {
     "data": {
      "text/plain": [
       "TextBlob(\"certain conditions during several generations are modified in the same manner.\")"
      ]
     },
     "execution_count": 19,
     "metadata": {},
     "output_type": "execute_result"
    }
   ],
   "source": [
    "textBlb.correct()"
   ]
  },
  {
   "cell_type": "code",
   "execution_count": null,
   "id": "6a5099f4-587e-4e6b-b701-a11ec596f8e5",
   "metadata": {},
   "outputs": [],
   "source": []
  }
 ],
 "metadata": {
  "kernelspec": {
   "display_name": "Python 3 (ipykernel)",
   "language": "python",
   "name": "python3"
  },
  "language_info": {
   "codemirror_mode": {
    "name": "ipython",
    "version": 3
   },
   "file_extension": ".py",
   "mimetype": "text/x-python",
   "name": "python",
   "nbconvert_exporter": "python",
   "pygments_lexer": "ipython3",
   "version": "3.11.7"
  }
 },
 "nbformat": 4,
 "nbformat_minor": 5
}
