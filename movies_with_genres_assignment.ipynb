{
 "cells": [
  {
   "cell_type": "code",
   "execution_count": 1,
   "id": "8fe12a81-cf1a-46ac-b565-5f28276df545",
   "metadata": {},
   "outputs": [
    {
     "name": "stdout",
     "output_type": "stream",
     "text": [
      "                      title  \\\n",
      "0  The Shawshank Redemption   \n",
      "1             The Godfather   \n",
      "2     The Godfather Part II   \n",
      "3          Schindler's List   \n",
      "4              12 Angry Men   \n",
      "\n",
      "                                            overview               genres  \n",
      "0  Imprisoned in the 1940s for the double murder ...         Drama, Crime  \n",
      "1  Spanning the years 1945 to 1955, a chronicle o...         Drama, Crime  \n",
      "2  In the continuing saga of the Corleone crime f...         Drama, Crime  \n",
      "3  The true story of how businessman Oskar Schind...  Drama, History, War  \n",
      "4  The defense and the prosecution have rested an...                Drama  \n"
     ]
    }
   ],
   "source": [
    "import requests\n",
    "import pandas as pd\n",
    "\n",
    "# Step 1: Fetch genre list\n",
    "genre_url = 'http://api.themoviedb.org/3/genre/movie/list?api_key=237af7c9dea012a4a6ec3f40e5f87c2a&language=en-US'\n",
    "genre_response = requests.get(genre_url)\n",
    "\n",
    "if genre_response.status_code == 200:\n",
    "    genre_data = genre_response.json()['genres']  # Extract genre list\n",
    "else:\n",
    "    print(\"Failed to fetch genre data\")\n",
    "    genre_data = []\n",
    "\n",
    "# Step 2: Create a dictionary to map genre_id to genre_name\n",
    "genre_dict = {genre['id']: genre['name'] for genre in genre_data}\n",
    "\n",
    "# Step 3: Initialize an empty list to store movie data\n",
    "movie_data = []\n",
    "\n",
    "# Step 4: Fetch movie data from multiple pages\n",
    "for i in range(1, 499):  # Iterating through pages\n",
    "    movie_url = f'http://api.themoviedb.org/3/movie/top_rated?api_key=237af7c9dea012a4a6ec3f40e5f87c2a&language=en-US&page={i}'\n",
    "    response = requests.get(movie_url)\n",
    "\n",
    "    if response.status_code == 200:\n",
    "        results = response.json()['results']\n",
    "\n",
    "        # Process each movie entry\n",
    "        for movie in results:\n",
    "            movie_entry = {\n",
    "                'title': movie['title'],\n",
    "                'overview': movie['overview'],\n",
    "                'genres': ', '.join([genre_dict.get(genre_id, \"Unknown\") for genre_id in movie['genre_ids']])  # Map genre IDs to names\n",
    "            }\n",
    "            movie_data.append(movie_entry)\n",
    "    else:\n",
    "        print(f\"Failed to fetch movie data for page {i}\")\n",
    "\n",
    "# Step 5: Convert the collected data into a Pandas DataFrame\n",
    "df = pd.DataFrame(movie_data)\n",
    "\n",
    "# Step 6: Save DataFrame as CSV file\n",
    "df.to_csv(\"movies_with_genres.csv\", index=False)\n",
    "\n",
    "# Step 7: Display the first few rows\n",
    "print(df.head(5))\n"
   ]
  },
  {
   "cell_type": "code",
   "execution_count": 5,
   "id": "51277b1f-e9b1-4b9e-9e0f-bc3e46c3a8c4",
   "metadata": {},
   "outputs": [],
   "source": [
    "from tabulate import tabulate"
   ]
  },
  {
   "cell_type": "code",
   "execution_count": 6,
   "id": "88d1415d-7529-4c6f-adbd-5a74d7198057",
   "metadata": {},
   "outputs": [
    {
     "name": "stderr",
     "output_type": "stream",
     "text": [
      "IOPub data rate exceeded.\n",
      "The Jupyter server will temporarily stop sending output\n",
      "to the client in order to avoid crashing it.\n",
      "To change this limit, set the config variable\n",
      "`--ServerApp.iopub_data_rate_limit`.\n",
      "\n",
      "Current values:\n",
      "ServerApp.iopub_data_rate_limit=1000000.0 (bytes/sec)\n",
      "ServerApp.rate_limit_window=3.0 (secs)\n",
      "\n"
     ]
    }
   ],
   "source": [
    "print(tabulate(df, headers=\"keys\", tablefmt=\"grid\"))"
   ]
  },
  {
   "cell_type": "code",
   "execution_count": 2,
   "id": "060d39fd-20a8-4337-aa52-0ada9387ffe3",
   "metadata": {},
   "outputs": [],
   "source": [
    "import numpy as np\n",
    "import pandas as pd\n",
    "import re"
   ]
  },
  {
   "cell_type": "code",
   "execution_count": 3,
   "id": "94fdc09d-ddfa-4df9-8f07-cf3a065ea99a",
   "metadata": {},
   "outputs": [],
   "source": [
    "df = pd.read_csv(\"movies_with_genres.csv\", encoding=\"cp1252\", quoting=0, escapechar=\"\\\\\", on_bad_lines=\"warn\", dtype=str)"
   ]
  },
  {
   "cell_type": "code",
   "execution_count": 4,
   "id": "1a66630d-5367-4dd7-a313-7c1517f37c16",
   "metadata": {},
   "outputs": [
    {
     "data": {
      "text/html": [
       "<div>\n",
       "<style scoped>\n",
       "    .dataframe tbody tr th:only-of-type {\n",
       "        vertical-align: middle;\n",
       "    }\n",
       "\n",
       "    .dataframe tbody tr th {\n",
       "        vertical-align: top;\n",
       "    }\n",
       "\n",
       "    .dataframe thead th {\n",
       "        text-align: right;\n",
       "    }\n",
       "</style>\n",
       "<table border=\"1\" class=\"dataframe\">\n",
       "  <thead>\n",
       "    <tr style=\"text-align: right;\">\n",
       "      <th></th>\n",
       "      <th>title</th>\n",
       "      <th>overview</th>\n",
       "      <th>genres</th>\n",
       "    </tr>\n",
       "  </thead>\n",
       "  <tbody>\n",
       "    <tr>\n",
       "      <th>0</th>\n",
       "      <td>The Shawshank Redemption</td>\n",
       "      <td>Imprisoned in the 1940s for the double murder ...</td>\n",
       "      <td>Drama, Crime</td>\n",
       "    </tr>\n",
       "    <tr>\n",
       "      <th>1</th>\n",
       "      <td>The Godfather</td>\n",
       "      <td>Spanning the years 1945 to 1955, a chronicle o...</td>\n",
       "      <td>Drama, Crime</td>\n",
       "    </tr>\n",
       "    <tr>\n",
       "      <th>2</th>\n",
       "      <td>The Godfather Part II</td>\n",
       "      <td>In the continuing saga of the Corleone crime f...</td>\n",
       "      <td>Drama, Crime</td>\n",
       "    </tr>\n",
       "    <tr>\n",
       "      <th>3</th>\n",
       "      <td>Schindler's List</td>\n",
       "      <td>The true story of how businessman Oskar Schind...</td>\n",
       "      <td>Drama, History, War</td>\n",
       "    </tr>\n",
       "    <tr>\n",
       "      <th>4</th>\n",
       "      <td>12 Angry Men</td>\n",
       "      <td>The defense and the prosecution have rested an...</td>\n",
       "      <td>Drama</td>\n",
       "    </tr>\n",
       "    <tr>\n",
       "      <th>5</th>\n",
       "      <td>Spirited Away</td>\n",
       "      <td>A young girl, Chihiro, becomes trapped in a st...</td>\n",
       "      <td>Animation, Family, Fantasy</td>\n",
       "    </tr>\n",
       "    <tr>\n",
       "      <th>6</th>\n",
       "      <td>Dilwale Dulhania Le Jayenge</td>\n",
       "      <td>Raj is a rich, carefree, happy-go-lucky second...</td>\n",
       "      <td>Comedy, Drama, Romance</td>\n",
       "    </tr>\n",
       "    <tr>\n",
       "      <th>7</th>\n",
       "      <td>The Dark Knight</td>\n",
       "      <td>Batman raises the stakes in his war on crime. ...</td>\n",
       "      <td>Drama, Action, Crime, Thriller</td>\n",
       "    </tr>\n",
       "    <tr>\n",
       "      <th>8</th>\n",
       "      <td>The Green Mile</td>\n",
       "      <td>A supernatural tale set on death row in a Sout...</td>\n",
       "      <td>Fantasy, Drama, Crime</td>\n",
       "    </tr>\n",
       "    <tr>\n",
       "      <th>9</th>\n",
       "      <td>Parasite</td>\n",
       "      <td>All unemployed, Ki-taek's family takes peculia...</td>\n",
       "      <td>Comedy, Thriller, Drama</td>\n",
       "    </tr>\n",
       "  </tbody>\n",
       "</table>\n",
       "</div>"
      ],
      "text/plain": [
       "                         title  \\\n",
       "0     The Shawshank Redemption   \n",
       "1                The Godfather   \n",
       "2        The Godfather Part II   \n",
       "3             Schindler's List   \n",
       "4                 12 Angry Men   \n",
       "5                Spirited Away   \n",
       "6  Dilwale Dulhania Le Jayenge   \n",
       "7              The Dark Knight   \n",
       "8               The Green Mile   \n",
       "9                     Parasite   \n",
       "\n",
       "                                            overview  \\\n",
       "0  Imprisoned in the 1940s for the double murder ...   \n",
       "1  Spanning the years 1945 to 1955, a chronicle o...   \n",
       "2  In the continuing saga of the Corleone crime f...   \n",
       "3  The true story of how businessman Oskar Schind...   \n",
       "4  The defense and the prosecution have rested an...   \n",
       "5  A young girl, Chihiro, becomes trapped in a st...   \n",
       "6  Raj is a rich, carefree, happy-go-lucky second...   \n",
       "7  Batman raises the stakes in his war on crime. ...   \n",
       "8  A supernatural tale set on death row in a Sout...   \n",
       "9  All unemployed, Ki-taek's family takes peculia...   \n",
       "\n",
       "                           genres  \n",
       "0                    Drama, Crime  \n",
       "1                    Drama, Crime  \n",
       "2                    Drama, Crime  \n",
       "3             Drama, History, War  \n",
       "4                           Drama  \n",
       "5      Animation, Family, Fantasy  \n",
       "6          Comedy, Drama, Romance  \n",
       "7  Drama, Action, Crime, Thriller  \n",
       "8           Fantasy, Drama, Crime  \n",
       "9         Comedy, Thriller, Drama  "
      ]
     },
     "execution_count": 4,
     "metadata": {},
     "output_type": "execute_result"
    }
   ],
   "source": [
    "df.head(10)"
   ]
  },
  {
   "cell_type": "code",
   "execution_count": 4,
   "id": "d11607bb-ed73-4db7-a385-3d6b7ca67698",
   "metadata": {},
   "outputs": [
    {
     "name": "stdout",
     "output_type": "stream",
     "text": [
      "<class 'pandas.core.frame.DataFrame'>\n",
      "RangeIndex: 9960 entries, 0 to 9959\n",
      "Data columns (total 3 columns):\n",
      " #   Column    Non-Null Count  Dtype \n",
      "---  ------    --------------  ----- \n",
      " 0   title     9960 non-null   object\n",
      " 1   overview  9960 non-null   object\n",
      " 2   genres    9956 non-null   object\n",
      "dtypes: object(3)\n",
      "memory usage: 233.6+ KB\n"
     ]
    }
   ],
   "source": [
    "df.info()"
   ]
  },
  {
   "cell_type": "code",
   "execution_count": 5,
   "id": "fd2cc72d-2560-4319-b598-92eb3a433b79",
   "metadata": {},
   "outputs": [
    {
     "data": {
      "text/plain": [
       "(9960, 3)"
      ]
     },
     "execution_count": 5,
     "metadata": {},
     "output_type": "execute_result"
    }
   ],
   "source": [
    "df.shape"
   ]
  },
  {
   "cell_type": "markdown",
   "id": "a392131e-ff19-49d5-b88b-8307f1b8b270",
   "metadata": {},
   "source": [
    "Lower Casing"
   ]
  },
  {
   "cell_type": "code",
   "execution_count": 6,
   "id": "c5d6d03b-79f3-4376-b8f6-e70183d011fe",
   "metadata": {},
   "outputs": [
    {
     "data": {
      "text/plain": [
       "0       the shawshank redemption\n",
       "1                  the godfather\n",
       "2          the godfather part ii\n",
       "3               schindler's list\n",
       "4                   12 angry men\n",
       "                  ...           \n",
       "9955               baby geniuses\n",
       "9956        hercules in new york\n",
       "9957               the love guru\n",
       "9958                  bloodrayne\n",
       "9959          inspector gadget 2\n",
       "Name: title, Length: 9960, dtype: object"
      ]
     },
     "execution_count": 6,
     "metadata": {},
     "output_type": "execute_result"
    }
   ],
   "source": [
    "df['title']= df['title'].str.lower()\n",
    "df['title']"
   ]
  },
  {
   "cell_type": "code",
   "execution_count": 7,
   "id": "745bb5ae-30a6-43d8-9f06-20ee4531d65c",
   "metadata": {},
   "outputs": [
    {
     "data": {
      "text/plain": [
       "0       imprisoned in the 1940s for the double murder ...\n",
       "1       spanning the years 1945 to 1955, a chronicle o...\n",
       "2       in the continuing saga of the corleone crime f...\n",
       "3       the true story of how businessman oskar schind...\n",
       "4       the defense and the prosecution have rested an...\n",
       "                              ...                        \n",
       "9955    babyco is the world's leading manufacturer in ...\n",
       "9956    hercules is sent from mount olympus to modern-...\n",
       "9957    born in america and raised in an indian ashram...\n",
       "9958    in 18th-century romania, after spending much o...\n",
       "9959    after capturing claw, all the criminals have g...\n",
       "Name: overview, Length: 9960, dtype: object"
      ]
     },
     "execution_count": 7,
     "metadata": {},
     "output_type": "execute_result"
    }
   ],
   "source": [
    "df['overview']= df['overview'].str.lower()\n",
    "df['overview']"
   ]
  },
  {
   "cell_type": "code",
   "execution_count": 8,
   "id": "6cb78167-6464-43b6-9305-8db45fd452dd",
   "metadata": {},
   "outputs": [
    {
     "data": {
      "text/plain": [
       "0                            drama, crime\n",
       "1                            drama, crime\n",
       "2                            drama, crime\n",
       "3                     drama, history, war\n",
       "4                                   drama\n",
       "                      ...                \n",
       "9955      science fiction, comedy, family\n",
       "9956           comedy, adventure, fantasy\n",
       "9957                      comedy, romance\n",
       "9958                      fantasy, horror\n",
       "9959    action, adventure, comedy, family\n",
       "Name: genres, Length: 9960, dtype: object"
      ]
     },
     "execution_count": 8,
     "metadata": {},
     "output_type": "execute_result"
    }
   ],
   "source": [
    "df['genres']= df['genres'].str.lower()\n",
    "df['genres']"
   ]
  },
  {
   "cell_type": "markdown",
   "id": "2d42591c-110e-475b-a244-721608d7422d",
   "metadata": {},
   "source": [
    "HTML Tags Removal"
   ]
  },
  {
   "cell_type": "code",
   "execution_count": 9,
   "id": "01dda581-cf01-4b29-b638-93b840e821dc",
   "metadata": {},
   "outputs": [],
   "source": [
    "import re\n",
    "def remove_html_tags(text):\n",
    "    pattern= re.compile('<.*?>')\n",
    "    return pattern.sub(r'', text)"
   ]
  },
  {
   "cell_type": "code",
   "execution_count": 10,
   "id": "57b2ea3c-9f2a-4675-a75d-f9c3ed0c8cad",
   "metadata": {},
   "outputs": [
    {
     "data": {
      "text/plain": [
       "0       imprisoned in the 1940s for the double murder ...\n",
       "1       spanning the years 1945 to 1955, a chronicle o...\n",
       "2       in the continuing saga of the corleone crime f...\n",
       "3       the true story of how businessman oskar schind...\n",
       "4       the defense and the prosecution have rested an...\n",
       "                              ...                        \n",
       "9955    babyco is the world's leading manufacturer in ...\n",
       "9956    hercules is sent from mount olympus to modern-...\n",
       "9957    born in america and raised in an indian ashram...\n",
       "9958    in 18th-century romania, after spending much o...\n",
       "9959    after capturing claw, all the criminals have g...\n",
       "Name: overview, Length: 9960, dtype: object"
      ]
     },
     "execution_count": 10,
     "metadata": {},
     "output_type": "execute_result"
    }
   ],
   "source": [
    "df['overview'].apply(remove_html_tags)  #no need of this bc there are no html tags"
   ]
  },
  {
   "cell_type": "markdown",
   "id": "169b93ca-9a15-423b-b13d-2ddb20053c66",
   "metadata": {},
   "source": [
    "URLs Removal"
   ]
  },
  {
   "cell_type": "code",
   "execution_count": 11,
   "id": "75612fda-17df-4567-904d-8eabcfab373b",
   "metadata": {},
   "outputs": [],
   "source": [
    "def remove_url(text):\n",
    "    pattern = re.compile(r'https?://\\S+|www\\.\\S+')  # Corrected regex\n",
    "    return pattern.sub('', text)"
   ]
  },
  {
   "cell_type": "code",
   "execution_count": 12,
   "id": "c94906e2-27fc-412d-a01e-fa1a490e4e2a",
   "metadata": {},
   "outputs": [
    {
     "data": {
      "text/plain": [
       "0       imprisoned in the 1940s for the double murder ...\n",
       "1       spanning the years 1945 to 1955, a chronicle o...\n",
       "2       in the continuing saga of the corleone crime f...\n",
       "3       the true story of how businessman oskar schind...\n",
       "4       the defense and the prosecution have rested an...\n",
       "                              ...                        \n",
       "9955    babyco is the world's leading manufacturer in ...\n",
       "9956    hercules is sent from mount olympus to modern-...\n",
       "9957    born in america and raised in an indian ashram...\n",
       "9958    in 18th-century romania, after spending much o...\n",
       "9959    after capturing claw, all the criminals have g...\n",
       "Name: overview, Length: 9960, dtype: object"
      ]
     },
     "execution_count": 12,
     "metadata": {},
     "output_type": "execute_result"
    }
   ],
   "source": [
    "df['overview'].apply(remove_url)  # no need of this too"
   ]
  },
  {
   "cell_type": "markdown",
   "id": "fb2f12da-c1b1-40e6-849d-c6428b699835",
   "metadata": {},
   "source": [
    "Remove Punctuation"
   ]
  },
  {
   "cell_type": "code",
   "execution_count": 13,
   "id": "22df6660-6fcf-4c6a-ac03-9f1b2eea2859",
   "metadata": {},
   "outputs": [],
   "source": [
    "import string\n",
    "\n",
    "def remove_punc1(text):\n",
    "    exclude = string.punctuation  # Define punctuation to remove\n",
    "    return text.translate(str.maketrans('', '', exclude))\n",
    "\n"
   ]
  },
  {
   "cell_type": "code",
   "execution_count": 14,
   "id": "ce3f7f0f-c865-498b-97ef-ac6198a27d7d",
   "metadata": {},
   "outputs": [],
   "source": [
    "df['overview'] = df['overview'].apply(remove_punc1)\n"
   ]
  },
  {
   "cell_type": "code",
   "execution_count": 15,
   "id": "5f930f70-d175-4735-9579-cd4a82e0628a",
   "metadata": {},
   "outputs": [
    {
     "data": {
      "text/plain": [
       "'in the continuing saga of the corleone crime family a young vito corleone grows up in sicily and in 1910s new york in the 1950s michael corleone attempts to expand the family business into las vegas hollywood and cuba'"
      ]
     },
     "execution_count": 15,
     "metadata": {},
     "output_type": "execute_result"
    }
   ],
   "source": [
    "df['overview'][2]"
   ]
  },
  {
   "cell_type": "code",
   "execution_count": 16,
   "id": "1ce56559-efb6-4c0c-83a4-ba55fdee2e5d",
   "metadata": {},
   "outputs": [
    {
     "data": {
      "text/plain": [
       "'a young girl chihiro becomes trapped in a strange new world of spirits when her parents undergo a mysterious transformation she must call upon the courage she never knew she had to free her family'"
      ]
     },
     "execution_count": 16,
     "metadata": {},
     "output_type": "execute_result"
    }
   ],
   "source": [
    "df['overview'][5]"
   ]
  },
  {
   "cell_type": "code",
   "execution_count": 17,
   "id": "e5daf2c8-d2d2-4569-ab91-734cca8ea186",
   "metadata": {},
   "outputs": [],
   "source": [
    "# No need of chat word treatment also bc the dataset does not contain any chat word as of it"
   ]
  },
  {
   "cell_type": "markdown",
   "id": "ad9315e2-5e48-40e0-8d84-0fbd928f563f",
   "metadata": {},
   "source": [
    "Spelling Correction"
   ]
  },
  {
   "cell_type": "code",
   "execution_count": 5,
   "id": "8173f369-14ce-48b0-96b3-3072e84003c5",
   "metadata": {},
   "outputs": [],
   "source": [
    "from textblob import TextBlob"
   ]
  },
  {
   "cell_type": "code",
   "execution_count": 6,
   "id": "93257c3e-2e0b-492c-9930-bb945b9d27ae",
   "metadata": {},
   "outputs": [],
   "source": [
    "# Function to correct spelling\n",
    "def correct_spelling(text):\n",
    "    if isinstance(text, str):  # Ensure input is a string\n",
    "        return str(TextBlob(text).correct())\n",
    "    return text  # Return the original value if not a string\n"
   ]
  },
  {
   "cell_type": "code",
   "execution_count": 7,
   "id": "f711f7d1-e57f-4228-999a-581825e9307a",
   "metadata": {},
   "outputs": [],
   "source": [
    "df.loc[:4, 'overview'] = df.loc[:4, 'overview'].apply(correct_spelling)\n"
   ]
  },
  {
   "cell_type": "code",
   "execution_count": 8,
   "id": "c5797a68-1238-4774-a840-0f8f57aa748f",
   "metadata": {},
   "outputs": [
    {
     "name": "stdout",
     "output_type": "stream",
     "text": [
      "The true story of how businessman Scar Schindler saved over a thousand Jewish lives from the Paris while they worked as slaves in his factory during World War of.\n"
     ]
    }
   ],
   "source": [
    "print(df['overview'][3])"
   ]
  },
  {
   "cell_type": "markdown",
   "id": "bbace5b0-f612-48ac-99f9-e53a90e00f52",
   "metadata": {},
   "source": [
    "Removing Stop Words"
   ]
  },
  {
   "cell_type": "code",
   "execution_count": 9,
   "id": "5c4bf70f-6fe7-45aa-a9ad-d0ce651db2a2",
   "metadata": {},
   "outputs": [],
   "source": [
    "import nltk\n",
    "from nltk.corpus import stopwords"
   ]
  },
  {
   "cell_type": "code",
   "execution_count": 10,
   "id": "7b17d7b3-d30d-4fe7-a98a-1497595de237",
   "metadata": {},
   "outputs": [
    {
     "name": "stderr",
     "output_type": "stream",
     "text": [
      "[nltk_data] Downloading package stopwords to\n",
      "[nltk_data]     C:\\Users\\ADMIN\\AppData\\Roaming\\nltk_data...\n",
      "[nltk_data]   Unzipping corpora\\stopwords.zip.\n"
     ]
    },
    {
     "data": {
      "text/plain": [
       "True"
      ]
     },
     "execution_count": 10,
     "metadata": {},
     "output_type": "execute_result"
    }
   ],
   "source": [
    "nltk.download('stopwords')"
   ]
  },
  {
   "cell_type": "code",
   "execution_count": 11,
   "id": "9f783fb4-d6ee-4c73-8128-8e2e7fa5d269",
   "metadata": {},
   "outputs": [],
   "source": [
    "stop_words = set(stopwords.words('english'))"
   ]
  },
  {
   "cell_type": "code",
   "execution_count": 12,
   "id": "bbf54cea-8329-4f98-88ba-c553f9da2596",
   "metadata": {},
   "outputs": [],
   "source": [
    "# Function to remove stopwords\n",
    "def remove_stopwords(text):\n",
    "    if isinstance(text, str):  # Ensure input is a string\n",
    "        return \" \".join([word for word in text.split() if word.lower() not in stop_words])\n",
    "    return text  # Return original text if it's not a string"
   ]
  },
  {
   "cell_type": "code",
   "execution_count": 13,
   "id": "5bb1e803-0d0e-4172-91b3-55eec9d023f8",
   "metadata": {},
   "outputs": [],
   "source": [
    "df.loc[:4, 'title_cleaned'] = df.loc[:4, 'title'].apply(remove_stopwords)\n",
    "df.loc[:4, 'overview_cleaned'] = df.loc[:4, 'overview'].apply(remove_stopwords)"
   ]
  },
  {
   "cell_type": "code",
   "execution_count": 15,
   "id": "53baab74-71f7-4c50-bd44-849d0c3d5c88",
   "metadata": {},
   "outputs": [
    {
     "name": "stdout",
     "output_type": "stream",
     "text": [
      "                      title         title_cleaned  \\\n",
      "0  The Shawshank Redemption  Shawshank Redemption   \n",
      "\n",
      "                                            overview  \\\n",
      "0  Imprisoned in the 1940s for the double murder ...   \n",
      "\n",
      "                                    overview_cleaned  \n",
      "0  Imprisoned 1940s double murder wife lover, sta...  \n"
     ]
    }
   ],
   "source": [
    "print(df[['title', 'title_cleaned', 'overview','overview_cleaned']].head(1))"
   ]
  },
  {
   "cell_type": "code",
   "execution_count": 16,
   "id": "90aecc9a-b2b0-4651-beff-8b4370b7a1ad",
   "metadata": {},
   "outputs": [],
   "source": [
    "# Handling Emojis , no need of this"
   ]
  },
  {
   "cell_type": "markdown",
   "id": "cf1589a6-9649-4e3c-bbde-9bb20005062d",
   "metadata": {},
   "source": [
    "Tokenization using spacy"
   ]
  },
  {
   "cell_type": "code",
   "execution_count": 17,
   "id": "89b8048a-e4aa-47fe-a6d9-231aaaafa5b1",
   "metadata": {},
   "outputs": [],
   "source": [
    "import spacy"
   ]
  },
  {
   "cell_type": "code",
   "execution_count": 18,
   "id": "ca22075b-841c-45f9-9987-ac827f0dbde0",
   "metadata": {},
   "outputs": [],
   "source": [
    "# Load English model\n",
    "nlp = spacy.load(\"en_core_web_sm\")"
   ]
  },
  {
   "cell_type": "code",
   "execution_count": 19,
   "id": "8bf16e8d-bfbc-43b4-a993-4a3e390d17bd",
   "metadata": {},
   "outputs": [],
   "source": [
    "def tokenize_text(text):\n",
    "    if isinstance(text, str):  # Ensure input is a string\n",
    "        doc = nlp(text)\n",
    "        return [token.text for token in doc]  # Extract tokenized words\n",
    "    return text"
   ]
  },
  {
   "cell_type": "code",
   "execution_count": 20,
   "id": "3e304863-0fe9-4487-b790-4e82293c2942",
   "metadata": {},
   "outputs": [],
   "source": [
    "df.loc[:3, 'tokenized_overview'] = df.loc[:3, 'overview'].apply(tokenize_text)"
   ]
  },
  {
   "cell_type": "code",
   "execution_count": 21,
   "id": "90f77dd2-25e6-4d61-99d1-ea825d8245c7",
   "metadata": {},
   "outputs": [
    {
     "name": "stdout",
     "output_type": "stream",
     "text": [
      "                                            overview  \\\n",
      "0  Imprisoned in the 1940s for the double murder ...   \n",
      "1  Spanning the years 1945 to 1955, a chronicle o...   \n",
      "2  In the continuing sage of the Corleone crime f...   \n",
      "3  The true story of how businessman Scar Schindl...   \n",
      "4  The defense and the prosecution have rested an...   \n",
      "\n",
      "                                  tokenized_overview  \n",
      "0  [Imprisoned, in, the, 1940s, for, the, double,...  \n",
      "1  [Spanning, the, years, 1945, to, 1955, ,, a, c...  \n",
      "2  [In, the, continuing, sage, of, the, Corleone,...  \n",
      "3  [The, true, story, of, how, businessman, Scar,...  \n",
      "4                                                NaN  \n"
     ]
    }
   ],
   "source": [
    "print(df[['overview', 'tokenized_overview']].head())"
   ]
  },
  {
   "cell_type": "markdown",
   "id": "71fc5711-a98f-49dc-9b78-5830a3b74f88",
   "metadata": {},
   "source": [
    "Stemming"
   ]
  },
  {
   "cell_type": "code",
   "execution_count": 22,
   "id": "995c72cd-828e-49eb-baf9-782802d1891b",
   "metadata": {},
   "outputs": [],
   "source": [
    "from nltk.stem.porter import PorterStemmer\n",
    "ps= PorterStemmer()"
   ]
  },
  {
   "cell_type": "code",
   "execution_count": 23,
   "id": "8dd97696-935b-48ca-8502-0a51be7b27a4",
   "metadata": {},
   "outputs": [],
   "source": [
    "def stem_words(text):\n",
    "    if isinstance(text, str): \n",
    "        return \" \".join([ps.stem(word) for word in text.split()])\n",
    "    return text"
   ]
  },
  {
   "cell_type": "code",
   "execution_count": 24,
   "id": "3bbcc4ed-aafa-4f93-bc82-d5685af97d85",
   "metadata": {},
   "outputs": [],
   "source": [
    "df.loc[:3, 'stemmed_overview'] = df.loc[:3, 'overview'].apply(stem_words)"
   ]
  },
  {
   "cell_type": "code",
   "execution_count": 25,
   "id": "d3037050-46c6-4329-940a-ea86928aa49c",
   "metadata": {},
   "outputs": [
    {
     "name": "stdout",
     "output_type": "stream",
     "text": [
      "                                            overview  \\\n",
      "0  Imprisoned in the 1940s for the double murder ...   \n",
      "1  Spanning the years 1945 to 1955, a chronicle o...   \n",
      "2  In the continuing sage of the Corleone crime f...   \n",
      "3  The true story of how businessman Scar Schindl...   \n",
      "4  The defense and the prosecution have rested an...   \n",
      "\n",
      "                                    stemmed_overview  \n",
      "0  imprison in the 1940 for the doubl murder of h...  \n",
      "1  span the year 1945 to 1955, a chronicl of the ...  \n",
      "2  in the continu sage of the corleon crime famil...  \n",
      "3  the true stori of how businessman scar schindl...  \n",
      "4                                                NaN  \n"
     ]
    }
   ],
   "source": [
    "print(df[['overview', 'stemmed_overview']].head())"
   ]
  },
  {
   "cell_type": "markdown",
   "id": "554f0511-8d84-4364-b5f0-239f15748301",
   "metadata": {},
   "source": [
    "Lemmatization"
   ]
  },
  {
   "cell_type": "code",
   "execution_count": 26,
   "id": "bd6ad24b-2173-42f3-b475-a68971aaf63f",
   "metadata": {},
   "outputs": [],
   "source": [
    "import nltk"
   ]
  },
  {
   "cell_type": "code",
   "execution_count": 27,
   "id": "91aa4fe5-c3af-45d4-8e80-7abff3680223",
   "metadata": {},
   "outputs": [],
   "source": [
    "from nltk.stem import WordNetLemmatizer\n",
    "from nltk.tokenize import word_tokenize"
   ]
  },
  {
   "cell_type": "code",
   "execution_count": 28,
   "id": "52425b2d-b30b-47a3-ad16-dba6b9899130",
   "metadata": {},
   "outputs": [],
   "source": [
    "wordnet_lemmatizer = WordNetLemmatizer()"
   ]
  },
  {
   "cell_type": "code",
   "execution_count": 29,
   "id": "c5a825c4-acc0-413a-a7ad-4626c851e770",
   "metadata": {},
   "outputs": [],
   "source": [
    "def lemmatize_text(text):\n",
    "    if isinstance(text, str): \n",
    "        words = word_tokenize(text)  # Tokenize text\n",
    "        lemmatized_words = [wordnet_lemmatizer.lemmatize(word, pos='v') for word in words]  \n",
    "        return \" \".join(lemmatized_words) \n",
    "    return text"
   ]
  },
  {
   "cell_type": "code",
   "execution_count": 30,
   "id": "b26f5180-aa01-4c4f-9bdd-a17ce1cf2870",
   "metadata": {},
   "outputs": [],
   "source": [
    "df.loc[:3,'lemmatized_overview'] = df.loc[:3, 'overview'].apply(lemmatize_text)"
   ]
  },
  {
   "cell_type": "code",
   "execution_count": 37,
   "id": "074410bc-9768-414f-a191-d132f13f3a48",
   "metadata": {},
   "outputs": [
    {
     "name": "stdout",
     "output_type": "stream",
     "text": [
      "                                                                                                                                                                                                                                                                                                                                                                                               overview  \\\n",
      "0  Imprisoned in the 1940s for the double murder of his wife and her lover, standing banker Andy Dufresne begins a new life at the Shawshank prison, where he puts his accounting skill to work for an moral garden. During his long stretch in prison, Dufresne comes to be admired by the other inmates -- including an older prisoner named Red -- for his integrity and unquenchable sense of hope.   \n",
      "\n",
      "                                                                                                                                                                                                                                                                                                                                                                            lemmatized_overview  \n",
      "0  Imprisoned in the 1940s for the double murder of his wife and her lover , stand banker Andy Dufresne begin a new life at the Shawshank prison , where he put his account skill to work for an moral garden . During his long stretch in prison , Dufresne come to be admire by the other inmates -- include an older prisoner name Red -- for his integrity and unquenchable sense of hope .  \n"
     ]
    }
   ],
   "source": [
    "pd.set_option('display.max_colwidth', None)  # Allow full text display\n",
    "print(df[['overview', 'lemmatized_overview']].head(1))\n"
   ]
  },
  {
   "cell_type": "code",
   "execution_count": null,
   "id": "9f8928ed-a0aa-46c1-ae23-0b097da4a6dc",
   "metadata": {},
   "outputs": [],
   "source": []
  }
 ],
 "metadata": {
  "kernelspec": {
   "display_name": "Python 3 (ipykernel)",
   "language": "python",
   "name": "python3"
  },
  "language_info": {
   "codemirror_mode": {
    "name": "ipython",
    "version": 3
   },
   "file_extension": ".py",
   "mimetype": "text/x-python",
   "name": "python",
   "nbconvert_exporter": "python",
   "pygments_lexer": "ipython3",
   "version": "3.11.7"
  }
 },
 "nbformat": 4,
 "nbformat_minor": 5
}
